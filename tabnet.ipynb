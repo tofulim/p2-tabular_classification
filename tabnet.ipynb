{
 "cells": [
  {
   "cell_type": "code",
   "execution_count": 1,
   "metadata": {
    "colab": {
     "base_uri": "https://localhost:8080/"
    },
    "id": "HcelT6jcjSKJ",
    "outputId": "57f5e2b8-b936-441e-e5e8-8a7d33e108bc"
   },
   "outputs": [
    {
     "name": "stdout",
     "output_type": "stream",
     "text": [
      "Collecting pytorch-tabnet\n",
      "  Downloading pytorch_tabnet-3.1.1-py3-none-any.whl (39 kB)\n",
      "Requirement already satisfied: scipy>1.4 in /opt/conda/lib/python3.7/site-packages (from pytorch-tabnet) (1.6.2)\n",
      "Requirement already satisfied: numpy<2.0,>=1.17 in /opt/conda/lib/python3.7/site-packages (from pytorch-tabnet) (1.19.5)\n",
      "Requirement already satisfied: torch<2.0,>=1.2 in /opt/conda/lib/python3.7/site-packages (from pytorch-tabnet) (1.6.0)\n",
      "Requirement already satisfied: tqdm<5.0,>=4.36 in /opt/conda/lib/python3.7/site-packages (from pytorch-tabnet) (4.46.0)\n",
      "Requirement already satisfied: scikit_learn>0.21 in /opt/conda/lib/python3.7/site-packages (from pytorch-tabnet) (0.24.1)\n",
      "Collecting future\n",
      "  Downloading future-0.18.2.tar.gz (829 kB)\n",
      "\u001b[K     |████████████████████████████████| 829 kB 714 kB/s eta 0:00:01\n",
      "\u001b[?25hRequirement already satisfied: joblib>=0.11 in /opt/conda/lib/python3.7/site-packages (from scikit_learn>0.21->pytorch-tabnet) (1.0.1)\n",
      "Requirement already satisfied: threadpoolctl>=2.0.0 in /opt/conda/lib/python3.7/site-packages (from scikit_learn>0.21->pytorch-tabnet) (2.1.0)\n",
      "Building wheels for collected packages: future\n",
      "  Building wheel for future (setup.py) ... \u001b[?25ldone\n",
      "\u001b[?25h  Created wheel for future: filename=future-0.18.2-py3-none-any.whl size=491058 sha256=575cc758e099001c1c4e9e5c283ff67344cab3171e9c42bd1a9512643cfe538d\n",
      "  Stored in directory: /opt/ml/.cache/pip/wheels/56/b0/fe/4410d17b32f1f0c3cf54cdfb2bc04d7b4b8f4ae377e2229ba0\n",
      "Successfully built future\n",
      "Installing collected packages: pytorch-tabnet, future\n",
      "Successfully installed future-0.18.2 pytorch-tabnet-3.1.1\n"
     ]
    }
   ],
   "source": [
    "!pip install pytorch-tabnet"
   ]
  },
  {
   "cell_type": "code",
   "execution_count": 111,
   "metadata": {
    "id": "QDJjOH0-jiGP"
   },
   "outputs": [],
   "source": [
    "# Suppress warnings \n",
    "import warnings\n",
    "warnings.filterwarnings('ignore')\n",
    "\n",
    "import os, sys, gc, warnings, random\n",
    "\n",
    "import datetime\n",
    "import dateutil.relativedelta\n",
    "\n",
    "# Data manipulation\n",
    "import pandas as pd \n",
    "import numpy as np\n",
    "\n",
    "# Visualization\n",
    "import matplotlib.pyplot as plt\n",
    "import seaborn as sns\n",
    "\n",
    "# Machine learning\n",
    "from sklearn.pipeline import Pipeline\n",
    "from sklearn.preprocessing import MinMaxScaler, LabelEncoder\n",
    "from sklearn.impute import SimpleImputer\n",
    "from sklearn.metrics import precision_score, recall_score, f1_score, roc_auc_score, precision_recall_curve, roc_curve\n",
    "from sklearn.model_selection import train_test_split, cross_val_score, KFold, StratifiedKFold, GroupKFold\n",
    "from sklearn.ensemble import RandomForestClassifier\n",
    "\n",
    "import lightgbm as lgb\n",
    "\n",
    "from tqdm.notebook import trange, tqdm\n",
    "\n",
    "from IPython.display import display\n",
    "\n",
    "%matplotlib inline\n",
    "\n",
    "pd.options.display.max_rows = 10000\n",
    "pd.options.display.max_columns = 1000\n",
    "pd.options.display.max_colwidth = 1000"
   ]
  },
  {
   "cell_type": "code",
   "execution_count": 112,
   "metadata": {
    "id": "5I-t1TmCjqw8"
   },
   "outputs": [],
   "source": [
    "TOTAL_THRES = 300\n",
    "\n",
    "'''\n",
    "    입력인자로 받는 year_month에 대해 고객 ID별로 총 구매액이\n",
    "    구매액 임계값을 넘는지 여부의 binary label을 생성하는 함수\n",
    "'''\n",
    "def generate_label(df, year_month, total_thres=TOTAL_THRES, print_log=False):\n",
    "    df = df.copy()\n",
    "    \n",
    "    # year_month에 해당하는 label 데이터 생성\n",
    "    df['year_month'] = df['order_date'].dt.strftime('%Y-%m')\n",
    "    df.reset_index(drop=True, inplace=True)\n",
    "\n",
    "    # year_month 이전 월의 고객 ID 추출\n",
    "    cust = df[df['year_month']<year_month]['customer_id'].unique()\n",
    "    # year_month에 해당하는 데이터 선택\n",
    "    df = df[df['year_month']==year_month]\n",
    "    \n",
    "    # label 데이터프레임 생성\n",
    "    label = pd.DataFrame({'customer_id':cust})\n",
    "    label['year_month'] = year_month\n",
    "    \n",
    "    # year_month에 해당하는 고객 ID의 구매액의 합 계산\n",
    "    grped = df.groupby(['customer_id','year_month'], as_index=False)[['total']].sum()\n",
    "    \n",
    "    # label 데이터프레임과 merge하고 구매액 임계값을 넘었는지 여부로 label 생성\n",
    "    label = label.merge(grped, on=['customer_id','year_month'], how='left')\n",
    "    label['total'].fillna(0.0, inplace=True)\n",
    "    label['label'] = (label['total'] > total_thres).astype(int)\n",
    "\n",
    "    # 고객 ID로 정렬\n",
    "    label = label.sort_values('customer_id').reset_index(drop=True)\n",
    "    if print_log: print(f'{year_month} - final label shape: {label.shape}')\n",
    "    \n",
    "    return label"
   ]
  },
  {
   "cell_type": "code",
   "execution_count": 113,
   "metadata": {
    "id": "bAktB-GijthK"
   },
   "outputs": [],
   "source": [
    "def print_score(label, pred, prob_thres=0.5):\n",
    "    print('Precision: {:.5f}'.format(precision_score(label, pred>prob_thres)))\n",
    "    print('Recall: {:.5f}'.format(recall_score(label, pred>prob_thres)))\n",
    "    print('F1 Score: {:.5f}'.format(f1_score(label, pred>prob_thres)))\n",
    "    print('ROC AUC Score: {:.5f}'.format(roc_auc_score(label, pred)))\n"
   ]
  },
  {
   "cell_type": "code",
   "execution_count": 114,
   "metadata": {
    "colab": {
     "base_uri": "https://localhost:8080/",
     "height": 222
    },
    "id": "Z8g6b8Pyjvvm",
    "outputId": "e40c0802-9b44-4fdf-a531-93b87220e037"
   },
   "outputs": [],
   "source": [
    "data = pd.read_csv(\"../input/train.csv\", parse_dates=[\"order_date\"])\n",
    "#quantity 이상치 튜플 (74315개 구매직후 환불한)2개 제거\n",
    "data=data.drop([433791,433796])\n",
    "# #price 이상치 튜플 (1000원짜리 60개사서 한번에 64300.5의 price로 환불한)2개 기록 제거\n",
    "# data=data.drop([553676,553686])\n",
    "#뒤의 색상 option 제거\n",
    "data['product_id']=data['product_id'].astype(str).map(lambda x : x if x.isdigit() else x[:-1])"
   ]
  },
  {
   "cell_type": "code",
   "execution_count": 115,
   "metadata": {
    "colab": {
     "base_uri": "https://localhost:8080/"
    },
    "id": "Z4A4dJNaj4mj",
    "outputId": "ce3fa665-d45a-4eeb-f2f5-f2c117dfb7c4"
   },
   "outputs": [
    {
     "name": "stdout",
     "output_type": "stream",
     "text": [
      "<class 'pandas.core.frame.DataFrame'>\n",
      "Int64Index: 780500 entries, 0 to 780501\n",
      "Data columns (total 9 columns):\n",
      " #   Column       Non-Null Count   Dtype         \n",
      "---  ------       --------------   -----         \n",
      " 0   order_id     780500 non-null  object        \n",
      " 1   product_id   780500 non-null  object        \n",
      " 2   description  780500 non-null  object        \n",
      " 3   quantity     780500 non-null  int64         \n",
      " 4   order_date   780500 non-null  datetime64[ns]\n",
      " 5   price        780500 non-null  float64       \n",
      " 6   customer_id  780500 non-null  int64         \n",
      " 7   country      780500 non-null  object        \n",
      " 8   total        780500 non-null  float64       \n",
      "dtypes: datetime64[ns](1), float64(2), int64(2), object(4)\n",
      "memory usage: 59.5+ MB\n"
     ]
    }
   ],
   "source": [
    "data.info()"
   ]
  },
  {
   "cell_type": "code",
   "execution_count": 116,
   "metadata": {},
   "outputs": [],
   "source": [
    "def feature_preprocessing(train, test, features, do_imputing=True):\n",
    "    x_tr = train.copy()\n",
    "    x_te = test.copy()\n",
    "    \n",
    "    # 범주형 피처 이름을 저장할 변수\n",
    "    cate_cols = []\n",
    "\n",
    "    # 레이블 인코딩\n",
    "    for f in features:\n",
    "        if x_tr[f].dtype.name == 'object': # 데이터 타입이 object(str)이면 레이블 인코딩\n",
    "            cate_cols.append(f)\n",
    "            le = LabelEncoder()\n",
    "            # train + test 데이터를 합쳐서 레이블 인코딩 함수에 fit\n",
    "            le.fit(list(x_tr[f].values) + list(x_te[f].values))\n",
    "            \n",
    "            # train 데이터 레이블 인코딩 변환 수행\n",
    "            x_tr[f] = le.transform(list(x_tr[f].values))\n",
    "            \n",
    "            # test 데이터 레이블 인코딩 변환 수행\n",
    "            x_te[f] = le.transform(list(x_te[f].values))\n",
    "\n",
    "    print('categorical feature:', cate_cols)\n",
    "\n",
    "    if do_imputing:\n",
    "        # 중위값으로 결측치 채우기\n",
    "        imputer = SimpleImputer(strategy='median')\n",
    "\n",
    "        x_tr[features] = imputer.fit_transform(x_tr[features])\n",
    "        x_te[features] = imputer.transform(x_te[features])\n",
    "    \n",
    "    return x_tr, x_te"
   ]
  },
  {
   "cell_type": "code",
   "execution_count": 117,
   "metadata": {
    "id": "LMOcFrSLj7Dz"
   },
   "outputs": [],
   "source": [
    "def feature_engineering1(df, year_month):\n",
    "    df = df.copy()\n",
    "    df2=df.copy()\n",
    "    #customer_id 기준으로 group by 후 total,quantity, price의 누적합 계산\n",
    "    df['cumsum_total_by_cust_id'] = df.groupby(['customer_id'])['total'].cumsum()\n",
    "    df['cumsum_quantity_by_cust_id'] = df.groupby(['customer_id'])['quantity'].cumsum()\n",
    "    df['cumsum_price_by_cust_id'] = df.groupby(['customer_id'])['price'].cumsum()\n",
    "    #product_id 기준으로 group by 후 total,quantity, price의 누적합 계산\n",
    "    df['cumsum_total_by_product_id'] = df.groupby(['product_id'])['total'].cumsum()\n",
    "    df['cumsum_quantity_by_product_id'] = df.groupby(['product_id'])['quantity'].cumsum()\n",
    "    df['cumsum_price_by_product_id'] = df.groupby(['product_id'])['price'].cumsum()\n",
    "    #order_id 기준으로 group by 후 total,quantity, price의 누적합 계산\n",
    "    df['cumsum_total_by_order_id'] = df.groupby(['order_id'])['total'].cumsum()\n",
    "    df['cumsum_quantity_by_order_id'] = df.groupby(['order_id'])['quantity'].cumsum()\n",
    "    df['cumsum_price_by_order_id'] = df.groupby(['order_id'])['price'].cumsum()\n",
    "    \n",
    "    #month, year_month 추가\n",
    "    df['month']=df['order_date'].dt.month\n",
    "    df['year_month']=df['order_date'].dt.strftime('%Y-%m')\n",
    "    \n",
    "    #description 마지막 단어로 요약\n",
    "    df['desc_summary']=df['description'].map(lambda x :x.split()[-1])\n",
    "    #diff feature 생성\n",
    "    df['order_ts']=df['order_date'].astype(np.int64)\n",
    "    df['order_ts_diff']=df.groupby(['customer_id'])['order_ts'].diff()\n",
    "    df['quantity_diff']=df.groupby(['customer_id'])['quantity'].diff()\n",
    "    df['price_diff']=df.groupby(['customer_id'])['price'].diff()\n",
    "    df['total_diff']=df.groupby(['customer_id'])['total'].diff()\n",
    "    \n",
    "    #마지막이 환불인 기록 제거, 사람별로 last order 피처 생성\n",
    "    df2=df2[~df2['order_id'].str.contains('C')]\n",
    "    df['last_order_ts']=df2['order_date'].astype(np.int64)\n",
    "    df['last_order_ts_diff']=df.groupby(['customer_id'])['last_order_ts'].diff()\n",
    "    \n",
    "    # year_month 이전 월 계산\n",
    "    d = datetime.datetime.strptime(year_month, \"%Y-%m\")\n",
    "    prev_ym = d - dateutil.relativedelta.relativedelta(months=1)\n",
    "    prev_ym = prev_ym.strftime('%Y-%m')\n",
    "    \n",
    "    # train, test 데이터 선택\n",
    "    train = df[df['order_date'] < prev_ym]\n",
    "    test = df[df['order_date'] < year_month]\n",
    "    #percent over 300 피처 사람별로 생성, \n",
    "    train_po3=train.groupby(['customer_id','year_month'], as_index=False)[['total']].sum()\n",
    "    test_po3=test.groupby(['customer_id','year_month'], as_index=False)[['total']].sum()\n",
    "    train_po3['o3']=train_po3.agg({'total': lambda x :1 if x>300 else 0})\n",
    "    test_po3['o3']=test_po3.agg({'total': lambda x :1 if x>300 else 0})\n",
    "    # num_whole=po3.groupby(['customer_id'])['o3'].agg('count')\n",
    "    tr_absolute_po3=round(train_po3.groupby(['customer_id'])['o3'].agg('mean'),2).values[:].squeeze()\n",
    "    te_absolute_po3=round(test_po3.groupby(['customer_id'])['o3'].agg('mean'),2).values[:].squeeze()\n",
    "    tr_num_one=train_po3.groupby(['customer_id'])['o3'].agg('sum')\n",
    "    te_num_one=test_po3.groupby(['customer_id'])['o3'].agg('sum')\n",
    "    tr_relative_po3=round(tr_num_one/24,2).values[:].squeeze()\n",
    "    te_relative_po3=round(te_num_one/24,2).values[:].squeeze()\n",
    "    \n",
    "    #사용기간 구매금액의 평균\n",
    "    tr_usage_total_mean=train_po3.groupby(['customer_id']).agg({'total': ['mean','max','min','sum','count','std','skew']})\n",
    "    te_usage_total_mean=test_po3.groupby(['customer_id']).agg({'total': ['mean','max','min','sum','count','std','skew']})\n",
    "    tr_usage_total_mean.columns=['ym-total-mean','ym-total-max','ym-total-min','ym-total-sum','ym-total-count','ym-total-std','ym-total-skew']\n",
    "    te_usage_total_mean.columns=['ym-total-mean','ym-total-max','ym-total-min','ym-total-sum','ym-total-count','ym-total-std','ym-total-skew']\n",
    "    tr_usage_total_mean['ym-total-std'].fillna(0.0, inplace=True) \n",
    "    tr_usage_total_mean['ym-total-skew'].fillna(0.0, inplace=True) \n",
    "    te_usage_total_mean['ym-total-std'].fillna(0.0, inplace=True) \n",
    "    te_usage_total_mean['ym-total-skew'].fillna(0.0, inplace=True) \n",
    "    # train, test 레이블 데이터 생성\n",
    "    train_label = generate_label(df, prev_ym)[['customer_id','year_month','label']]\n",
    "    test_label = generate_label(df, year_month)[['customer_id','year_month','label']]\n",
    "    train_label['absolute_po300']=tr_absolute_po3\n",
    "    train_label['relative_po300']=tr_relative_po3\n",
    "    test_label['absolute_po300']=te_absolute_po3\n",
    "    test_label['relative_po300']=te_relative_po3\n",
    "    train_label=train_label.merge(tr_usage_total_mean,on='customer_id',how='left')\n",
    "    test_label=test_label.merge(te_usage_total_mean,on='customer_id',how='left')\n",
    "    # group by aggregation 함수 선언\n",
    "    agg_func = ['mean','max','min','sum','count','std','skew']\n",
    "    agg_dict = {\n",
    "        'quantity': agg_func,\n",
    "        'price': agg_func,\n",
    "        'total': agg_func,\n",
    "        'cumsum_total_by_cust_id': agg_func,\n",
    "        'cumsum_quantity_by_cust_id': agg_func,\n",
    "        'cumsum_price_by_cust_id': agg_func,\n",
    "        'cumsum_total_by_product_id': agg_func,\n",
    "        'cumsum_quantity_by_product_id': agg_func,\n",
    "        'cumsum_price_by_product_id': agg_func,\n",
    "        'cumsum_total_by_order_id': agg_func,\n",
    "        'cumsum_quantity_by_order_id': agg_func,\n",
    "        'cumsum_price_by_order_id': agg_func,\n",
    "        'order_id': ['nunique'],\n",
    "        'product_id': ['nunique'],\n",
    "        'month' : [lambda x:x.value_counts().index[0]],\n",
    "        'year_month':[lambda x:x.value_counts().index[0]],\n",
    "        'desc_summary' : [lambda x:x.value_counts().index[0]],\n",
    "        'order_ts' : ['first','last'],\n",
    "        'order_ts_diff' : agg_func,\n",
    "        'last_order_ts' : ['first','last'],\n",
    "        'last_order_ts_diff' : agg_func,\n",
    "        'quantity_diff' : agg_func,\n",
    "        'price_diff' : agg_func,\n",
    "        'total_diff' : agg_func,\n",
    "    }\n",
    "    all_train_data = pd.DataFrame()\n",
    "    \n",
    "    for i, tr_ym in enumerate(train_label['year_month'].unique()):\n",
    "        # group by aggretation 함수로 train 데이터 피처 생성\n",
    "        train_agg = train.loc[train['order_date'] < tr_ym].groupby(['customer_id']).agg(agg_dict)\n",
    "\n",
    "        new_cols = []\n",
    "        for col in agg_dict.keys():\n",
    "            for stat in agg_dict[col]:\n",
    "                if type(stat) is str:\n",
    "                    new_cols.append(f'{col}-{stat}')\n",
    "                else:\n",
    "                    new_cols.append(f'{col}-mode')\n",
    "\n",
    "        train_agg.columns = new_cols\n",
    "        train_agg.reset_index(inplace = True)\n",
    "        \n",
    "        train_agg['year_month'] = tr_ym\n",
    "        \n",
    "        all_train_data = all_train_data.append(train_agg)\n",
    "    \n",
    "    all_train_data = train_label.merge(all_train_data, on=['customer_id', 'year_month'], how='left')\n",
    "    #agg취한 값들이 feature가 된다\n",
    "    features = all_train_data.drop(columns=['customer_id', 'label', 'year_month']).columns\n",
    "    \n",
    "    # group by aggretation 함수로 test 데이터 피처 생성\n",
    "    test_agg = test.groupby(['customer_id']).agg(agg_dict)\n",
    "    test_agg.columns = new_cols\n",
    "    \n",
    "    test_data = test_label.merge(test_agg, on=['customer_id'], how='left')\n",
    "    \n",
    "    # train, test 데이터 전처리\n",
    "    x_tr, x_te = feature_preprocessing(all_train_data, test_data, features)\n",
    "    \n",
    "    print('x_tr.shape', x_tr.shape, ', x_te.shape', x_te.shape)\n",
    "    \n",
    "    return x_tr, x_te, all_train_data['label'], features"
   ]
  },
  {
   "cell_type": "code",
   "execution_count": 118,
   "metadata": {
    "colab": {
     "base_uri": "https://localhost:8080/"
    },
    "id": "sYQtlu9skWxa",
    "outputId": "0759e701-ee5b-4de0-8d17-2372d2a3338d"
   },
   "outputs": [
    {
     "name": "stdout",
     "output_type": "stream",
     "text": [
      "categorical feature: ['year_month-mode', 'desc_summary-mode']\n",
      "x_tr.shape (5722, 140) , x_te.shape (5914, 140)\n"
     ]
    }
   ],
   "source": [
    "train, test, y, features = feature_engineering1(data, '2011-12')"
   ]
  },
  {
   "cell_type": "code",
   "execution_count": 72,
   "metadata": {},
   "outputs": [
    {
     "data": {
      "text/plain": [
       "Index(['o3_x', 'o3_y', 'quantity-mean', 'quantity-max', 'quantity-min',\n",
       "       'quantity-sum', 'quantity-count', 'quantity-std', 'quantity-skew',\n",
       "       'price-mean',\n",
       "       ...\n",
       "       'price_diff-count', 'price_diff-std', 'price_diff-skew',\n",
       "       'total_diff-mean', 'total_diff-max', 'total_diff-min', 'total_diff-sum',\n",
       "       'total_diff-count', 'total_diff-std', 'total_diff-skew'],\n",
       "      dtype='object', length=130)"
      ]
     },
     "execution_count": 72,
     "metadata": {},
     "output_type": "execute_result"
    }
   ],
   "source": [
    "features"
   ]
  },
  {
   "cell_type": "code",
   "execution_count": 119,
   "metadata": {
    "id": "bfQRgL0SlAG_"
   },
   "outputs": [],
   "source": [
    "from pytorch_tabnet.tab_model import TabNetClassifier, TabNetRegressor\n",
    "from pytorch_tabnet.pretraining import TabNetPretrainer\n",
    "import torch\n",
    "import torch.nn\n",
    "from torch.optim.lr_scheduler import StepLR, ReduceLROnPlateau\n",
    "optimizer = torch.optim.Adam"
   ]
  },
  {
   "cell_type": "markdown",
   "metadata": {
    "id": "VRU3UgIrwyBw"
   },
   "source": [
    "## Supervised learning"
   ]
  },
  {
   "cell_type": "code",
   "execution_count": 145,
   "metadata": {
    "colab": {
     "base_uri": "https://localhost:8080/"
    },
    "id": "VmEOPFE8ql15",
    "outputId": "7c2e8d2b-ad0d-4017-fff8-a5e701fbf89e"
   },
   "outputs": [
    {
     "name": "stdout",
     "output_type": "stream",
     "text": [
      "Device used : cuda\n",
      "epoch 0  | loss: 0.49112 | ('train', 'valid')_auc: 0.78698 |  0:00:04s\n",
      "epoch 1  | loss: 0.43835 | ('train', 'valid')_auc: 0.78894 |  0:00:08s\n",
      "epoch 2  | loss: 0.4248  | ('train', 'valid')_auc: 0.79272 |  0:00:13s\n",
      "epoch 3  | loss: 0.42184 | ('train', 'valid')_auc: 0.78799 |  0:00:17s\n",
      "epoch 4  | loss: 0.41968 | ('train', 'valid')_auc: 0.79935 |  0:00:22s\n",
      "epoch 5  | loss: 0.41053 | ('train', 'valid')_auc: 0.80115 |  0:00:26s\n",
      "epoch 6  | loss: 0.41301 | ('train', 'valid')_auc: 0.80389 |  0:00:30s\n",
      "epoch 7  | loss: 0.40917 | ('train', 'valid')_auc: 0.81114 |  0:00:34s\n",
      "epoch 8  | loss: 0.41224 | ('train', 'valid')_auc: 0.80169 |  0:00:39s\n",
      "epoch 9  | loss: 0.41335 | ('train', 'valid')_auc: 0.80225 |  0:00:44s\n",
      "epoch 10 | loss: 0.41112 | ('train', 'valid')_auc: 0.80203 |  0:00:49s\n",
      "epoch 11 | loss: 0.41001 | ('train', 'valid')_auc: 0.80723 |  0:00:53s\n",
      "epoch 12 | loss: 0.40954 | ('train', 'valid')_auc: 0.80762 |  0:00:58s\n",
      "epoch 13 | loss: 0.40645 | ('train', 'valid')_auc: 0.80674 |  0:01:03s\n",
      "epoch 14 | loss: 0.40834 | ('train', 'valid')_auc: 0.80947 |  0:01:07s\n",
      "epoch 15 | loss: 0.40462 | ('train', 'valid')_auc: 0.81093 |  0:01:11s\n",
      "epoch 16 | loss: 0.40191 | ('train', 'valid')_auc: 0.81434 |  0:01:15s\n",
      "epoch 17 | loss: 0.40067 | ('train', 'valid')_auc: 0.8153  |  0:01:19s\n",
      "epoch 18 | loss: 0.40224 | ('train', 'valid')_auc: 0.8155  |  0:01:23s\n",
      "epoch 19 | loss: 0.39666 | ('train', 'valid')_auc: 0.81589 |  0:01:27s\n",
      "epoch 20 | loss: 0.39836 | ('train', 'valid')_auc: 0.81557 |  0:01:31s\n",
      "epoch 21 | loss: 0.39664 | ('train', 'valid')_auc: 0.81649 |  0:01:35s\n",
      "epoch 22 | loss: 0.39667 | ('train', 'valid')_auc: 0.81601 |  0:01:39s\n",
      "epoch 23 | loss: 0.398   | ('train', 'valid')_auc: 0.8145  |  0:01:43s\n",
      "epoch 24 | loss: 0.39676 | ('train', 'valid')_auc: 0.81441 |  0:01:47s\n",
      "epoch 25 | loss: 0.39563 | ('train', 'valid')_auc: 0.81567 |  0:01:51s\n",
      "epoch 26 | loss: 0.39689 | ('train', 'valid')_auc: 0.81555 |  0:01:55s\n",
      "epoch 27 | loss: 0.39626 | ('train', 'valid')_auc: 0.81623 |  0:01:59s\n",
      "epoch 28 | loss: 0.39468 | ('train', 'valid')_auc: 0.81634 |  0:02:03s\n",
      "epoch 29 | loss: 0.40029 | ('train', 'valid')_auc: 0.81557 |  0:02:07s\n",
      "epoch 30 | loss: 0.3961  | ('train', 'valid')_auc: 0.81598 |  0:02:11s\n",
      "epoch 31 | loss: 0.39807 | ('train', 'valid')_auc: 0.81628 |  0:02:15s\n",
      "\n",
      "Early stopping occurred at epoch 31 with best_epoch = 21 and best_('train', 'valid')_auc = 0.81649\n",
      "Best weights from best epoch are automatically used!\n"
     ]
    }
   ],
   "source": [
    "clf = TabNetClassifier(\n",
    "    optimizer_fn=optimizer,\n",
    "    optimizer_params=dict(lr=0.06),\n",
    "    scheduler_params={\"factor\":0.5, # how to use learning rate scheduler\n",
    "                      \"patience\":3},\n",
    "#     scheduler_params={\"optimizer\":optimizer_fn, \"factor\":0.9, \"patience\":10}\n",
    "    scheduler_fn=torch.optim.lr_scheduler.ReduceLROnPlateau,\n",
    "    mask_type='sparsemax' # This will be overwritten if using pretrain model\n",
    ")\n",
    "\n",
    "clf.fit(\n",
    "    X_train=train[features].values, y_train=y,\n",
    "    eval_set=[(train[features].values, y)], # (X_valid, y_valid)], \n",
    "    eval_name=[('train' , 'valid')], #\n",
    "    eval_metric=['auc'],\n",
    "    loss_fn= None,\n",
    "    weights=0,\n",
    "    max_epochs = 100,\n",
    "    patience = 10,\n",
    "    batch_size = 64, \n",
    "    virtual_batch_size = 64,\n",
    "    num_workers=2,\n",
    "    drop_last=False,\n",
    "    callbacks=None,\n",
    "    pin_memory=True,\n",
    "    from_unsupervised=None,\n",
    ")"
   ]
  },
  {
   "cell_type": "code",
   "execution_count": 149,
   "metadata": {
    "colab": {
     "base_uri": "https://localhost:8080/",
     "height": 392
    },
    "id": "04aEL4s1Dr_S",
    "outputId": "3852762c-664c-4fe5-f2c8-29baecf045c2"
   },
   "outputs": [
    {
     "data": {
      "text/plain": [
       "(array([  0,   1,   2,   3,   4,   5,   6,   7,   8,   9,  10,  11,  12,\n",
       "         13,  14,  15,  16,  17,  18,  19,  20,  21,  22,  23,  24,  25,\n",
       "         26,  27,  28,  29,  30,  31,  32,  33,  34,  35,  36,  37,  38,\n",
       "         39,  40,  41,  42,  43,  44,  45,  46,  47,  48,  49,  50,  51,\n",
       "         52,  53,  54,  55,  56,  57,  58,  59,  60,  61,  62,  63,  64,\n",
       "         65,  66,  67,  68,  69,  70,  71,  72,  73,  74,  75,  76,  77,\n",
       "         78,  79,  80,  81,  82,  83,  84,  85,  86,  87,  88,  89,  90,\n",
       "         91,  92,  93,  94,  95,  96,  97,  98,  99, 100, 101, 102, 103,\n",
       "        104, 105, 106, 107, 108, 109, 110, 111, 112, 113, 114, 115, 116,\n",
       "        117, 118, 119, 120, 121, 122, 123, 124, 125, 126, 127, 128, 129,\n",
       "        130, 131, 132, 133, 134, 135, 136]),\n",
       " <a list of 137 Text xticklabel objects>)"
      ]
     },
     "execution_count": 149,
     "metadata": {},
     "output_type": "execute_result"
    },
    {
     "data": {
      "image/png": "[encoded data removed]",
      "text/plain": [
       "<Figure size 2160x432 with 1 Axes>"
      ]
     },
     "metadata": {
      "needs_background": "light"
     },
     "output_type": "display_data"
    }
   ],
   "source": [
    "plt.figure(figsize=(30, 6))\n",
    "sns.barplot(x=features, y=clf.feature_importances_)\n",
    "plt.xticks(rotation =90)"
   ]
  },
  {
   "cell_type": "code",
   "execution_count": 28,
   "metadata": {
    "id": "LTM1zmqGCv9k"
   },
   "outputs": [],
   "source": [
    "explain_matrix, masks = clf.explain(test[features].values)"
   ]
  },
  {
   "cell_type": "code",
   "execution_count": 29,
   "metadata": {
    "colab": {
     "base_uri": "https://localhost:8080/"
    },
    "id": "OKWXAGBzFfDl",
    "outputId": "24758ebf-fbfb-4435-94f2-0c60e29adb73"
   },
   "outputs": [
    {
     "data": {
      "text/plain": [
       "(5914, 130)"
      ]
     },
     "execution_count": 29,
     "metadata": {},
     "output_type": "execute_result"
    }
   ],
   "source": [
    "explain_matrix.shape"
   ]
  },
  {
   "cell_type": "code",
   "execution_count": null,
   "metadata": {
    "colab": {
     "base_uri": "https://localhost:8080/",
     "height": 845
    },
    "id": "SkjRWxpyC4De",
    "outputId": "251a06de-fe8d-46a1-a519-36f680c0735a"
   },
   "outputs": [
    {
     "data": {
      "image/png": "[encoded data removed]",
      "text/plain": [
       "<Figure size 1440x1440 with 3 Axes>"
      ]
     },
     "metadata": {
      "needs_background": "light",
      "tags": []
     },
     "output_type": "display_data"
    }
   ],
   "source": [
    "fig, axs = plt.subplots(1, 3, figsize=(20,20))\n",
    "\n",
    "for i in range(3):\n",
    "    axs[i].imshow(masks[i][:50]) # 50개 데이터만 제한적으로 열람\n",
    "    axs[i].set_title(f\"mask {i}\")"
   ]
  },
  {
   "cell_type": "code",
   "execution_count": null,
   "metadata": {
    "colab": {
     "base_uri": "https://localhost:8080/"
    },
    "id": "8XFr_D0AVV3x",
    "outputId": "8e6f05db-c13d-4690-cf28-74bc79d3fdd4"
   },
   "outputs": [
    {
     "data": {
      "text/plain": [
       "Index(['quantity-mean', 'quantity-max', 'quantity-min', 'quantity-sum',\n",
       "       'quantity-count', 'quantity-std', 'quantity-skew', 'price-mean',\n",
       "       'price-max', 'price-min', 'price-sum', 'price-count', 'price-std',\n",
       "       'price-skew', 'total-mean', 'total-max', 'total-min', 'total-sum',\n",
       "       'total-count', 'total-std', 'total-skew'],\n",
       "      dtype='object')"
      ]
     },
     "execution_count": 18,
     "metadata": {
      "tags": []
     },
     "output_type": "execute_result"
    }
   ],
   "source": [
    "features"
   ]
  },
  {
   "cell_type": "markdown",
   "metadata": {
    "id": "AGG84DWXqbn0"
   },
   "source": [
    "## Semi-supervised learning Tabnet"
   ]
  },
  {
   "cell_type": "code",
   "execution_count": null,
   "metadata": {
    "id": "lg7e0E63qbHf"
   },
   "outputs": [],
   "source": [
    "\n",
    "# TabNetPretrainer\n",
    "unsupervised_model = TabNetPretrainer(\n",
    "    optimizer_fn=torch.optim.Adam,\n",
    "    optimizer_params=dict(lr=0.3),\n",
    "    mask_type='sparsemax' # \"sparsemax\"\n",
    ")\n",
    "\n",
    "unsupervised_model.fit(\n",
    "    X_train=train[features].values,\n",
    "    # eval_set=[X_valid],\n",
    "    pretraining_ratio=0.8,\n",
    ")\n",
    "\n",
    "clf = TabNetClassifier(\n",
    "    optimizer_fn=torch.optim.Adam,\n",
    "    optimizer_params=dict(lr=0.3),\n",
    "    scheduler_params={\"step_size\":10, # how to use learning rate scheduler\n",
    "                      \"gamma\":0.9},\n",
    "    scheduler_fn=torch.optim.lr_scheduler.StepLR,\n",
    "    mask_type='sparsemax' # This will be overwritten if using pretrain model\n",
    ")\n",
    "\n",
    "clf.fit(\n",
    "    X_train=train[features].values, y_train=y,\n",
    "    eval_set=[(train[features].values, y)], # , (X_valid, y_valid)\n",
    "    eval_name=['train'], # , 'valid'\n",
    "    eval_metric=['auc'],\n",
    "    loss_fn=None,\n",
    "    weights=0,\n",
    "    max_epochs=100,\n",
    "    patience=20,\n",
    "    batch_size=16,\n",
    "    virtual_batch_size=16,\n",
    "    num_workers=4,\n",
    "    drop_last=False,\n",
    "    callbacks=None,\n",
    "    pin_memory=True,\n",
    "    from_unsupervised=unsupervised_model\n",
    ")"
   ]
  },
  {
   "cell_type": "code",
   "execution_count": 147,
   "metadata": {
    "id": "2pK7UqtellM-"
   },
   "outputs": [],
   "source": [
    "pred = clf.predict_proba(test[features].values)"
   ]
  },
  {
   "cell_type": "code",
   "execution_count": null,
   "metadata": {
    "id": "dmPwVr0SoIIf"
   },
   "outputs": [],
   "source": [
    "import seaborn as sns"
   ]
  },
  {
   "cell_type": "code",
   "execution_count": 148,
   "metadata": {
    "colab": {
     "base_uri": "https://localhost:8080/",
     "height": 283
    },
    "id": "PRSYU9vWoS8j",
    "outputId": "236a9c5f-d75f-4ebd-e16b-e36a1957a545"
   },
   "outputs": [
    {
     "data": {
      "text/plain": [
       "<matplotlib.axes._subplots.AxesSubplot at 0x7fe8efd1ae90>"
      ]
     },
     "execution_count": 148,
     "metadata": {},
     "output_type": "execute_result"
    },
    {
     "data": {
      "image/png": "[encoded data removed]",
      "text/plain": [
       "<Figure size 432x288 with 1 Axes>"
      ]
     },
     "metadata": {
      "needs_background": "light"
     },
     "output_type": "display_data"
    }
   ],
   "source": [
    "sns.distplot(pred[:, 1])"
   ]
  },
  {
   "cell_type": "code",
   "execution_count": null,
   "metadata": {
    "id": "I91SZQo-Zb9K"
   },
   "outputs": [],
   "source": [
    "sub = pd.read_csv('./boostcamp_source/input/sample_submission.csv')"
   ]
  },
  {
   "cell_type": "code",
   "execution_count": null,
   "metadata": {
    "id": "Fa1nvwNWpKeP"
   },
   "outputs": [],
   "source": [
    "sub['probability'] = pred[:, 1]"
   ]
  },
  {
   "cell_type": "code",
   "execution_count": null,
   "metadata": {
    "colab": {
     "base_uri": "https://localhost:8080/",
     "height": 204
    },
    "id": "Ymq3_WQ5onzL",
    "outputId": "acb7e705-26a4-412e-80c7-e094c863ce62"
   },
   "outputs": [
    {
     "data": {
      "text/html": [
       "<div>\n",
       "<style scoped>\n",
       "    .dataframe tbody tr th:only-of-type {\n",
       "        vertical-align: middle;\n",
       "    }\n",
       "\n",
       "    .dataframe tbody tr th {\n",
       "        vertical-align: top;\n",
       "    }\n",
       "\n",
       "    .dataframe thead th {\n",
       "        text-align: right;\n",
       "    }\n",
       "</style>\n",
       "<table border=\"1\" class=\"dataframe\">\n",
       "  <thead>\n",
       "    <tr style=\"text-align: right;\">\n",
       "      <th></th>\n",
       "      <th>customer_id</th>\n",
       "      <th>probability</th>\n",
       "    </tr>\n",
       "  </thead>\n",
       "  <tbody>\n",
       "    <tr>\n",
       "      <th>0</th>\n",
       "      <td>12346</td>\n",
       "      <td>0.527550</td>\n",
       "    </tr>\n",
       "    <tr>\n",
       "      <th>1</th>\n",
       "      <td>12347</td>\n",
       "      <td>0.453751</td>\n",
       "    </tr>\n",
       "    <tr>\n",
       "      <th>2</th>\n",
       "      <td>12348</td>\n",
       "      <td>0.226154</td>\n",
       "    </tr>\n",
       "    <tr>\n",
       "      <th>3</th>\n",
       "      <td>12349</td>\n",
       "      <td>0.391239</td>\n",
       "    </tr>\n",
       "    <tr>\n",
       "      <th>4</th>\n",
       "      <td>12350</td>\n",
       "      <td>0.153171</td>\n",
       "    </tr>\n",
       "  </tbody>\n",
       "</table>\n",
       "</div>"
      ],
      "text/plain": [
       "   customer_id  probability\n",
       "0        12346     0.527550\n",
       "1        12347     0.453751\n",
       "2        12348     0.226154\n",
       "3        12349     0.391239\n",
       "4        12350     0.153171"
      ]
     },
     "execution_count": 30,
     "metadata": {
      "tags": []
     },
     "output_type": "execute_result"
    }
   ],
   "source": [
    "sub.head()"
   ]
  },
  {
   "cell_type": "code",
   "execution_count": 150,
   "metadata": {
    "id": "IrzxGb7mZx1Z"
   },
   "outputs": [],
   "source": [
    "data_dir = '../input' # os.environ['SM_CHANNEL_TRAIN']\n",
    "model_dir = '../model' # os.environ['SM_MODEL_DIR']\n",
    "output_dir = '../output' # os.environ['SM_OUTPUT_DATA_DIR']\n",
    "sub = pd.read_csv(data_dir + '/sample_submission.csv')\n",
    "    \n",
    "# 테스트 예측 결과 저장\n",
    "sub['probability'] = pred[:, 1]\n",
    "\n",
    "\n",
    "os.makedirs(output_dir, exist_ok=True)\n",
    "# 제출 파일 쓰기\n",
    "sub.to_csv(os.path.join(output_dir , 'try15-6.csv'), index=False)"
   ]
  },
  {
   "cell_type": "code",
   "execution_count": 62,
   "metadata": {
    "id": "6a_1DwRjaGI3"
   },
   "outputs": [
    {
     "data": {
      "text/html": [
       "<div>\n",
       "<style scoped>\n",
       "    .dataframe tbody tr th:only-of-type {\n",
       "        vertical-align: middle;\n",
       "    }\n",
       "\n",
       "    .dataframe tbody tr th {\n",
       "        vertical-align: top;\n",
       "    }\n",
       "\n",
       "    .dataframe thead th {\n",
       "        text-align: right;\n",
       "    }\n",
       "</style>\n",
       "<table border=\"1\" class=\"dataframe\">\n",
       "  <thead>\n",
       "    <tr style=\"text-align: right;\">\n",
       "      <th></th>\n",
       "      <th>customer_id</th>\n",
       "      <th>probability</th>\n",
       "    </tr>\n",
       "  </thead>\n",
       "  <tbody>\n",
       "    <tr>\n",
       "      <th>0</th>\n",
       "      <td>12346</td>\n",
       "      <td>0.065763</td>\n",
       "    </tr>\n",
       "    <tr>\n",
       "      <th>1</th>\n",
       "      <td>12347</td>\n",
       "      <td>0.528553</td>\n",
       "    </tr>\n",
       "    <tr>\n",
       "      <th>2</th>\n",
       "      <td>12348</td>\n",
       "      <td>0.185315</td>\n",
       "    </tr>\n",
       "    <tr>\n",
       "      <th>3</th>\n",
       "      <td>12349</td>\n",
       "      <td>0.387971</td>\n",
       "    </tr>\n",
       "    <tr>\n",
       "      <th>4</th>\n",
       "      <td>12350</td>\n",
       "      <td>0.081278</td>\n",
       "    </tr>\n",
       "  </tbody>\n",
       "</table>\n",
       "</div>"
      ],
      "text/plain": [
       "   customer_id  probability\n",
       "0        12346     0.065763\n",
       "1        12347     0.528553\n",
       "2        12348     0.185315\n",
       "3        12349     0.387971\n",
       "4        12350     0.081278"
      ]
     },
     "execution_count": 62,
     "metadata": {},
     "output_type": "execute_result"
    }
   ],
   "source": [
    "sub.head()"
   ]
  },
  {
   "cell_type": "code",
   "execution_count": null,
   "metadata": {},
   "outputs": [],
   "source": []
  }
 ],
 "metadata": {
  "accelerator": "GPU",
  "colab": {
   "collapsed_sections": [],
   "name": "tabnet.ipynb",
   "provenance": []
  },
  "kernelspec": {
   "display_name": "Python 3",
   "language": "python",
   "name": "python3"
  },
  "language_info": {
   "codemirror_mode": {
    "name": "ipython",
    "version": 3
   },
   "file_extension": ".py",
   "mimetype": "text/x-python",
   "name": "python",
   "nbconvert_exporter": "python",
   "pygments_lexer": "ipython3",
   "version": "3.7.7"
  }
 },
 "nbformat": 4,
 "nbformat_minor": 4
}